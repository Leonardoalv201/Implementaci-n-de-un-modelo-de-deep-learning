{
  "cells": [
    {
      "cell_type": "code",
      "execution_count": null,
      "metadata": {
        "colab": {
          "base_uri": "https://localhost:8080/"
        },
        "id": "wxQaMx17RYET",
        "outputId": "04a4bb58-56b7-42f0-933a-09aff36bf9ca"
      },
      "outputs": [
        {
          "output_type": "stream",
          "name": "stdout",
          "text": [
            "Drive already mounted at /content/gdrive; to attempt to forcibly remount, call drive.mount(\"/content/gdrive\", force_remount=True).\n"
          ]
        }
      ],
      "source": [
        "from google.colab import drive\n",
        "\n",
        "drive.mount(\"/content/gdrive\") "
      ]
    },
    {
      "cell_type": "code",
      "execution_count": null,
      "metadata": {
        "colab": {
          "base_uri": "https://localhost:8080/"
        },
        "id": "R0WnJx-dRbFj",
        "outputId": "11f552c1-3f79-44e0-e9b3-f998f526a17c"
      },
      "outputs": [
        {
          "output_type": "stream",
          "name": "stdout",
          "text": [
            "/content/gdrive/MyDrive/Bloque 2 IA/Modulo 2 DL/Entregable \n",
            " dataset       helado3.jfif   pizza2.jpeg\t\t  Untitled0.ipynb\n",
            " helado1.jpg   helado4.jfif   Pizza-Ice_model.h5\n",
            " helado2.jpg   pizza1.jpg    'Pizza or ice-cream.ipynb'\n"
          ]
        }
      ],
      "source": [
        "%cd \"/content/gdrive/MyDrive/Bloque 2 IA/Modulo 2 DL/Entregable \"\n",
        "!ls"
      ]
    },
    {
      "cell_type": "markdown",
      "source": [
        "#Módulo 2 Implementación de un modelo de deep learning."
      ],
      "metadata": {
        "id": "u10mCCnRCJ5k"
      }
    },
    {
      "cell_type": "markdown",
      "metadata": {
        "id": "DYjOC62AXKLs"
      },
      "source": [
        "##Importamos las libresisa que usaremos "
      ]
    },
    {
      "cell_type": "code",
      "execution_count": null,
      "metadata": {
        "colab": {
          "base_uri": "https://localhost:8080/"
        },
        "id": "lFBv8-sjRb28",
        "outputId": "50666855-b3e7-4ac4-9a3a-c568065a8621"
      },
      "outputs": [
        {
          "output_type": "stream",
          "name": "stdout",
          "text": [
            "2.9.2\n"
          ]
        }
      ],
      "source": [
        "import tensorflow as tf\n",
        "print(tf.__version__)"
      ]
    },
    {
      "cell_type": "code",
      "execution_count": null,
      "metadata": {
        "id": "8zm8lbFaRa5R"
      },
      "outputs": [],
      "source": [
        "import keras\n",
        "from keras.models import Sequential\n",
        "from keras.layers import Conv2D,Dense,MaxPool2D,Flatten,Dropout\n",
        "from keras.preprocessing.image import ImageDataGenerator"
      ]
    },
    {
      "cell_type": "markdown",
      "metadata": {
        "id": "0CoETK8FYZQG"
      },
      "source": [
        "##Preparacion de las imagenes"
      ]
    },
    {
      "cell_type": "code",
      "execution_count": null,
      "metadata": {
        "colab": {
          "base_uri": "https://localhost:8080/"
        },
        "id": "hrx0AwoHRgdH",
        "outputId": "d5c0e5d3-f5cc-49b0-e696-2b27981ed33c"
      },
      "outputs": [
        {
          "output_type": "stream",
          "name": "stdout",
          "text": [
            "Found 718 images belonging to 2 classes.\n",
            "Found 208 images belonging to 2 classes.\n",
            "Found 106 images belonging to 2 classes.\n"
          ]
        }
      ],
      "source": [
        "# Debido a que tamaño del dataset de entrenamiento no es grande, generamos imagenes nuevas con las origibales con ligeras modificaciones\n",
        "train_datagen = ImageDataGenerator(\n",
        "                rescale = 1./255,\n",
        "                rotation_range = 40,\n",
        "                width_shift_range = 0.2,\n",
        "                height_shift_range = 0.2,\n",
        "                shear_range = 0.2,\n",
        "                zoom_range = 0.2,\n",
        "                horizontal_flip = True\n",
        "                )\n",
        "\n",
        "train_path = 'dataset/train'\n",
        "train_set = train_datagen.flow_from_directory(\n",
        "                directory=train_path,\n",
        "                target_size=(150,150),\n",
        "                batch_size=32,\n",
        "                class_mode = 'categorical'\n",
        "                )\n",
        "\n",
        "val_datagen = ImageDataGenerator(rescale=1/255)\n",
        "val_path = 'dataset/valid'\n",
        "val_set = val_datagen.flow_from_directory(\n",
        "                directory=val_path,\n",
        "                target_size=(150,150),\n",
        "                batch_size=32,\n",
        "                class_mode = 'categorical'\n",
        "                )\n",
        "\n",
        "test_datagen = ImageDataGenerator(rescale=1/255)\n",
        "test_path = 'dataset/test'\n",
        "test_set = test_datagen.flow_from_directory(\n",
        "                directory=test_path,\n",
        "                target_size=(150,150),\n",
        "                batch_size=32,\n",
        "                class_mode = 'categorical'\n",
        "                )"
      ]
    },
    {
      "cell_type": "markdown",
      "source": [
        "Visualización de las labels de nuestro dataset"
      ],
      "metadata": {
        "id": "e7wxbHUb7zk7"
      }
    },
    {
      "cell_type": "code",
      "source": [
        "train_set.labels"
      ],
      "metadata": {
        "colab": {
          "base_uri": "https://localhost:8080/"
        },
        "id": "aVGu0NI2-a-B",
        "outputId": "53ce4054-1ea4-4bbf-c252-d8651fafdcde"
      },
      "execution_count": null,
      "outputs": [
        {
          "output_type": "execute_result",
          "data": {
            "text/plain": [
              "array([0, 0, 0, 0, 0, 0, 0, 0, 0, 0, 0, 0, 0, 0, 0, 0, 0, 0, 0, 0, 0, 0,\n",
              "       0, 0, 0, 0, 0, 0, 0, 0, 0, 0, 0, 0, 0, 0, 0, 0, 0, 0, 0, 0, 0, 0,\n",
              "       0, 0, 0, 0, 0, 0, 0, 0, 0, 0, 0, 0, 0, 0, 0, 0, 0, 0, 0, 0, 0, 0,\n",
              "       0, 0, 0, 0, 0, 0, 0, 0, 0, 0, 0, 0, 0, 0, 0, 0, 0, 0, 0, 0, 0, 0,\n",
              "       0, 0, 0, 0, 0, 0, 0, 0, 0, 0, 0, 0, 0, 0, 0, 0, 0, 0, 0, 0, 0, 0,\n",
              "       0, 0, 0, 0, 0, 0, 0, 0, 0, 0, 0, 0, 0, 0, 0, 0, 0, 0, 0, 0, 0, 0,\n",
              "       0, 0, 0, 0, 0, 0, 0, 0, 0, 0, 0, 0, 0, 0, 0, 0, 0, 0, 0, 0, 0, 0,\n",
              "       0, 0, 0, 0, 0, 0, 0, 0, 0, 0, 0, 0, 0, 0, 0, 0, 0, 0, 0, 0, 0, 0,\n",
              "       0, 0, 0, 0, 0, 0, 0, 0, 0, 0, 0, 0, 0, 0, 0, 0, 0, 0, 0, 0, 0, 0,\n",
              "       0, 0, 0, 0, 0, 0, 0, 0, 0, 0, 0, 0, 0, 0, 0, 0, 0, 0, 0, 0, 0, 0,\n",
              "       0, 0, 0, 0, 0, 0, 0, 0, 0, 0, 0, 0, 0, 0, 0, 0, 0, 0, 0, 0, 0, 0,\n",
              "       0, 0, 0, 0, 0, 0, 0, 0, 0, 0, 0, 0, 0, 0, 0, 0, 0, 0, 0, 0, 0, 0,\n",
              "       0, 0, 0, 0, 0, 0, 0, 0, 0, 0, 0, 0, 0, 0, 0, 0, 0, 0, 0, 0, 0, 0,\n",
              "       0, 0, 0, 0, 0, 0, 0, 0, 0, 0, 0, 0, 0, 0, 0, 0, 0, 0, 0, 0, 0, 0,\n",
              "       0, 0, 0, 0, 0, 0, 0, 0, 0, 0, 0, 0, 0, 0, 0, 0, 0, 0, 0, 0, 0, 0,\n",
              "       0, 0, 0, 0, 0, 0, 0, 0, 0, 0, 0, 0, 0, 0, 0, 0, 0, 0, 0, 0, 0, 0,\n",
              "       0, 0, 0, 0, 0, 0, 0, 0, 0, 0, 0, 0, 0, 0, 0, 0, 0, 0, 0, 0, 0, 0,\n",
              "       0, 0, 0, 0, 0, 0, 0, 0, 0, 0, 0, 0, 0, 0, 0, 0, 0, 1, 1, 1, 1, 1,\n",
              "       1, 1, 1, 1, 1, 1, 1, 1, 1, 1, 1, 1, 1, 1, 1, 1, 1, 1, 1, 1, 1, 1,\n",
              "       1, 1, 1, 1, 1, 1, 1, 1, 1, 1, 1, 1, 1, 1, 1, 1, 1, 1, 1, 1, 1, 1,\n",
              "       1, 1, 1, 1, 1, 1, 1, 1, 1, 1, 1, 1, 1, 1, 1, 1, 1, 1, 1, 1, 1, 1,\n",
              "       1, 1, 1, 1, 1, 1, 1, 1, 1, 1, 1, 1, 1, 1, 1, 1, 1, 1, 1, 1, 1, 1,\n",
              "       1, 1, 1, 1, 1, 1, 1, 1, 1, 1, 1, 1, 1, 1, 1, 1, 1, 1, 1, 1, 1, 1,\n",
              "       1, 1, 1, 1, 1, 1, 1, 1, 1, 1, 1, 1, 1, 1, 1, 1, 1, 1, 1, 1, 1, 1,\n",
              "       1, 1, 1, 1, 1, 1, 1, 1, 1, 1, 1, 1, 1, 1, 1, 1, 1, 1, 1, 1, 1, 1,\n",
              "       1, 1, 1, 1, 1, 1, 1, 1, 1, 1, 1, 1, 1, 1, 1, 1, 1, 1, 1, 1, 1, 1,\n",
              "       1, 1, 1, 1, 1, 1, 1, 1, 1, 1, 1, 1, 1, 1, 1, 1, 1, 1, 1, 1, 1, 1,\n",
              "       1, 1, 1, 1, 1, 1, 1, 1, 1, 1, 1, 1, 1, 1, 1, 1, 1, 1, 1, 1, 1, 1,\n",
              "       1, 1, 1, 1, 1, 1, 1, 1, 1, 1, 1, 1, 1, 1, 1, 1, 1, 1, 1, 1, 1, 1,\n",
              "       1, 1, 1, 1, 1, 1, 1, 1, 1, 1, 1, 1, 1, 1, 1, 1, 1, 1, 1, 1, 1, 1,\n",
              "       1, 1, 1, 1, 1, 1, 1, 1, 1, 1, 1, 1, 1, 1, 1, 1, 1, 1, 1, 1, 1, 1,\n",
              "       1, 1, 1, 1, 1, 1, 1, 1, 1, 1, 1, 1, 1, 1, 1, 1, 1, 1, 1, 1, 1, 1,\n",
              "       1, 1, 1, 1, 1, 1, 1, 1, 1, 1, 1, 1, 1, 1], dtype=int32)"
            ]
          },
          "metadata": {},
          "execution_count": 30
        }
      ]
    },
    {
      "cell_type": "code",
      "source": [
        "val_set.labels"
      ],
      "metadata": {
        "colab": {
          "base_uri": "https://localhost:8080/"
        },
        "id": "7IE8sNRS8Tle",
        "outputId": "3651a6b5-e11a-4f72-e440-b53b005e0699"
      },
      "execution_count": null,
      "outputs": [
        {
          "output_type": "execute_result",
          "data": {
            "text/plain": [
              "array([0, 0, 0, 0, 0, 0, 0, 0, 0, 0, 0, 0, 0, 0, 0, 0, 0, 0, 0, 0, 0, 0,\n",
              "       0, 0, 0, 0, 0, 0, 0, 0, 0, 0, 0, 0, 0, 0, 0, 0, 0, 0, 0, 0, 0, 0,\n",
              "       0, 0, 0, 0, 0, 0, 0, 0, 0, 0, 0, 0, 0, 0, 0, 0, 0, 0, 0, 0, 0, 0,\n",
              "       0, 0, 0, 0, 0, 0, 0, 0, 0, 0, 0, 0, 0, 0, 0, 0, 0, 0, 0, 0, 0, 0,\n",
              "       0, 0, 0, 0, 0, 0, 0, 0, 0, 0, 0, 0, 0, 0, 0, 0, 0, 0, 0, 0, 0, 0,\n",
              "       0, 0, 0, 0, 1, 1, 1, 1, 1, 1, 1, 1, 1, 1, 1, 1, 1, 1, 1, 1, 1, 1,\n",
              "       1, 1, 1, 1, 1, 1, 1, 1, 1, 1, 1, 1, 1, 1, 1, 1, 1, 1, 1, 1, 1, 1,\n",
              "       1, 1, 1, 1, 1, 1, 1, 1, 1, 1, 1, 1, 1, 1, 1, 1, 1, 1, 1, 1, 1, 1,\n",
              "       1, 1, 1, 1, 1, 1, 1, 1, 1, 1, 1, 1, 1, 1, 1, 1, 1, 1, 1, 1, 1, 1,\n",
              "       1, 1, 1, 1, 1, 1, 1, 1, 1, 1], dtype=int32)"
            ]
          },
          "metadata": {},
          "execution_count": 24
        }
      ]
    },
    {
      "cell_type": "code",
      "source": [
        "test_set.labels"
      ],
      "metadata": {
        "colab": {
          "base_uri": "https://localhost:8080/"
        },
        "id": "4Beo30-W8jBa",
        "outputId": "f8611908-ab86-4e55-e0c9-61bf9ba2adde"
      },
      "execution_count": null,
      "outputs": [
        {
          "output_type": "execute_result",
          "data": {
            "text/plain": [
              "array([0, 0, 0, 0, 0, 0, 0, 0, 0, 0, 0, 0, 0, 0, 0, 0, 0, 0, 0, 0, 0, 0,\n",
              "       0, 0, 0, 0, 0, 0, 0, 0, 0, 0, 0, 0, 0, 0, 0, 0, 0, 0, 0, 0, 0, 0,\n",
              "       0, 0, 0, 0, 0, 0, 0, 0, 0, 0, 0, 0, 0, 0, 0, 1, 1, 1, 1, 1, 1, 1,\n",
              "       1, 1, 1, 1, 1, 1, 1, 1, 1, 1, 1, 1, 1, 1, 1, 1, 1, 1, 1, 1, 1, 1,\n",
              "       1, 1, 1, 1, 1, 1, 1, 1, 1, 1, 1, 1, 1, 1, 1, 1, 1, 1], dtype=int32)"
            ]
          },
          "metadata": {},
          "execution_count": 26
        }
      ]
    },
    {
      "cell_type": "markdown",
      "metadata": {
        "id": "RPRBMBC2HPrc"
      },
      "source": [
        "##Creaccion del modelo"
      ]
    },
    {
      "cell_type": "markdown",
      "metadata": {
        "id": "9K6gmgM7Jkhz"
      },
      "source": [
        "###Modelo 1"
      ]
    },
    {
      "cell_type": "markdown",
      "source": [
        "Para el primer modelo, se crea un modelo seciencil, el cual consiste de dos capas convolutivas y se realizan entre estas un maxpooling de 2x2, despues de esto, con los datos obtenidos creamos un arreglo usando Flatten y dos capas densas para la clasificacion de el modelo."
      ],
      "metadata": {
        "id": "Hw9Uls6x77Jy"
      }
    },
    {
      "cell_type": "code",
      "execution_count": null,
      "metadata": {
        "id": "ceWgRnITJm-N"
      },
      "outputs": [],
      "source": [
        "model = Sequential()\n",
        "model.add(Conv2D(filters = 64, kernel_size = (5,5), activation = \"relu\", input_shape = (150,150,3)))\n",
        "model.add(MaxPool2D(pool_size = (2,2)))\n",
        "model.add(Conv2D(filters = 32, kernel_size = (5,5), activation = \"relu\"))\n",
        "model.add(MaxPool2D(pool_size = (2,2)))\n",
        "model.add(Flatten())\n",
        "model.add(Dense(256, activation = \"relu\"))\n",
        "model.add(Dense(2, activation = \"softmax\"))"
      ]
    },
    {
      "cell_type": "markdown",
      "source": [
        "Para compilar el modelo usamos Adam optimizer, binary_crossentropy para la perdida (ya que nuestro modelo clasifica en dos caterorias) y como metric accuracy."
      ],
      "metadata": {
        "id": "zVWam2RU8Uwq"
      }
    },
    {
      "cell_type": "code",
      "execution_count": null,
      "metadata": {
        "id": "avcIeSxBJuef"
      },
      "outputs": [],
      "source": [
        "model.compile(\n",
        "    optimizer='Adam',\n",
        "    loss='binary_crossentropy',\n",
        "    metrics=['accuracy']\n",
        "    )"
      ]
    },
    {
      "cell_type": "markdown",
      "source": [
        "Visualizacion del modelo"
      ],
      "metadata": {
        "id": "z1YuBDx68lJN"
      }
    },
    {
      "cell_type": "code",
      "execution_count": null,
      "metadata": {
        "colab": {
          "base_uri": "https://localhost:8080/"
        },
        "id": "ZTttaL4vJv0E",
        "outputId": "ae8b8119-fde7-4b5a-9f45-0d8cdd48d16b"
      },
      "outputs": [
        {
          "output_type": "stream",
          "name": "stdout",
          "text": [
            "Model: \"sequential\"\n",
            "_________________________________________________________________\n",
            " Layer (type)                Output Shape              Param #   \n",
            "=================================================================\n",
            " conv2d (Conv2D)             (None, 146, 146, 64)      4864      \n",
            "                                                                 \n",
            " max_pooling2d (MaxPooling2D  (None, 73, 73, 64)       0         \n",
            " )                                                               \n",
            "                                                                 \n",
            " conv2d_1 (Conv2D)           (None, 69, 69, 32)        51232     \n",
            "                                                                 \n",
            " max_pooling2d_1 (MaxPooling  (None, 34, 34, 32)       0         \n",
            " 2D)                                                             \n",
            "                                                                 \n",
            " flatten (Flatten)           (None, 36992)             0         \n",
            "                                                                 \n",
            " dense (Dense)               (None, 256)               9470208   \n",
            "                                                                 \n",
            " dense_1 (Dense)             (None, 2)                 514       \n",
            "                                                                 \n",
            "=================================================================\n",
            "Total params: 9,526,818\n",
            "Trainable params: 9,526,818\n",
            "Non-trainable params: 0\n",
            "_________________________________________________________________\n"
          ]
        }
      ],
      "source": [
        "model.summary()"
      ]
    },
    {
      "cell_type": "markdown",
      "source": [
        "Entrenamiento"
      ],
      "metadata": {
        "id": "3wQaoCpM8omW"
      }
    },
    {
      "cell_type": "code",
      "execution_count": null,
      "metadata": {
        "colab": {
          "base_uri": "https://localhost:8080/"
        },
        "id": "HQV7elrsJyCa",
        "outputId": "5e580534-1af4-41b0-f175-547edeea10be"
      },
      "outputs": [
        {
          "output_type": "stream",
          "name": "stdout",
          "text": [
            "Epoch 1/10\n",
            "23/23 [==============================] - 77s 3s/step - loss: 0.7940 - accuracy: 0.5474 - val_loss: 0.6916 - val_accuracy: 0.5481\n",
            "Epoch 2/10\n",
            "23/23 [==============================] - 79s 3s/step - loss: 0.6913 - accuracy: 0.5446 - val_loss: 0.6908 - val_accuracy: 0.5481\n",
            "Epoch 3/10\n",
            "23/23 [==============================] - 69s 3s/step - loss: 0.6905 - accuracy: 0.5446 - val_loss: 0.6898 - val_accuracy: 0.5481\n",
            "Epoch 4/10\n",
            "23/23 [==============================] - 71s 3s/step - loss: 0.6951 - accuracy: 0.5446 - val_loss: 0.6898 - val_accuracy: 0.5481\n",
            "Epoch 5/10\n",
            "23/23 [==============================] - 69s 3s/step - loss: 0.6906 - accuracy: 0.5390 - val_loss: 0.6896 - val_accuracy: 0.5481\n",
            "Epoch 6/10\n",
            "23/23 [==============================] - 73s 3s/step - loss: 0.6980 - accuracy: 0.5446 - val_loss: 0.6893 - val_accuracy: 0.5481\n",
            "Epoch 7/10\n",
            "23/23 [==============================] - 76s 3s/step - loss: 0.6897 - accuracy: 0.5446 - val_loss: 0.6891 - val_accuracy: 0.5481\n",
            "Epoch 8/10\n",
            "23/23 [==============================] - 69s 3s/step - loss: 0.6896 - accuracy: 0.5446 - val_loss: 0.6890 - val_accuracy: 0.5481\n",
            "Epoch 9/10\n",
            "23/23 [==============================] - 69s 3s/step - loss: 0.6896 - accuracy: 0.5446 - val_loss: 0.6887 - val_accuracy: 0.5481\n",
            "Epoch 10/10\n",
            "23/23 [==============================] - 74s 3s/step - loss: 0.6893 - accuracy: 0.5446 - val_loss: 0.6888 - val_accuracy: 0.5481\n"
          ]
        }
      ],
      "source": [
        "hist = model.fit(train_set, validation_data = val_set, epochs = 10)"
      ]
    },
    {
      "cell_type": "markdown",
      "metadata": {
        "id": "xjPw7nlTJhLf"
      },
      "source": [
        "###Modelo 2"
      ]
    },
    {
      "cell_type": "markdown",
      "source": [
        "En este nuevo modelo, se agrego un dropout de 25% despues del segundo MaxPool, esto para evitar overfitting, despues de esto, se agrego otra capa convolutiva y otra capa de MaxPool, para evitar overfitting se vuelve a hacer un dropout de 25% y finalmente de lo obtenido realizamos un Flatten y dos capas densas, pero en la capa final cambiamos de 'softmax' a 'sigmoid', ya que esta es mejor para clasificaciones binarias "
      ],
      "metadata": {
        "id": "Cfm5khp_8rF2"
      }
    },
    {
      "cell_type": "code",
      "execution_count": null,
      "metadata": {
        "id": "YmI7K3-SXsML"
      },
      "outputs": [],
      "source": [
        "model2 = Sequential()\n",
        "model2.add(Conv2D(filters = 64, kernel_size = (5,5), activation = \"relu\", input_shape = (150,150,3)))\n",
        "model2.add(MaxPool2D(pool_size = (2,2)))\n",
        "model2.add(Conv2D(filters = 32, kernel_size = (5,5), activation = \"relu\"))\n",
        "model2.add(MaxPool2D(pool_size = (2,2)))\n",
        "model2.add(Dropout(0.25))\n",
        "model2.add(Conv2D(filters = 16, kernel_size = (5,5), activation = \"relu\"))\n",
        "model2.add(MaxPool2D(pool_size = (2,2)))\n",
        "model2.add(Dropout(0.25))\n",
        "model2.add(Flatten())\n",
        "model2.add(Dense(256, activation = \"relu\"))\n",
        "model2.add(Dense(2, activation = \"sigmoid\"))"
      ]
    },
    {
      "cell_type": "markdown",
      "source": [
        "Para compilar el modelo usamos Adam optimizer, binary_crossentropy para la perdida (ya que nuestro modelo clasifica en dos caterorias) y como metric accuracy."
      ],
      "metadata": {
        "id": "9V90WQci_N-K"
      }
    },
    {
      "cell_type": "code",
      "execution_count": null,
      "metadata": {
        "id": "pt-a4lmFX_en"
      },
      "outputs": [],
      "source": [
        "model2.compile(\n",
        "    optimizer='Adam',\n",
        "    loss='binary_crossentropy',\n",
        "    metrics=['accuracy']\n",
        "    )"
      ]
    },
    {
      "cell_type": "markdown",
      "source": [
        "Visualizacion del modelo"
      ],
      "metadata": {
        "id": "xvomwVqy_PPw"
      }
    },
    {
      "cell_type": "code",
      "execution_count": null,
      "metadata": {
        "colab": {
          "base_uri": "https://localhost:8080/"
        },
        "id": "INw1BiOqYBIM",
        "outputId": "c90ad8e5-7b9e-4799-b185-85e419ed61e2"
      },
      "outputs": [
        {
          "output_type": "stream",
          "name": "stdout",
          "text": [
            "Model: \"sequential_1\"\n",
            "_________________________________________________________________\n",
            " Layer (type)                Output Shape              Param #   \n",
            "=================================================================\n",
            " conv2d_2 (Conv2D)           (None, 146, 146, 64)      4864      \n",
            "                                                                 \n",
            " max_pooling2d_2 (MaxPooling  (None, 73, 73, 64)       0         \n",
            " 2D)                                                             \n",
            "                                                                 \n",
            " conv2d_3 (Conv2D)           (None, 69, 69, 32)        51232     \n",
            "                                                                 \n",
            " max_pooling2d_3 (MaxPooling  (None, 34, 34, 32)       0         \n",
            " 2D)                                                             \n",
            "                                                                 \n",
            " dropout (Dropout)           (None, 34, 34, 32)        0         \n",
            "                                                                 \n",
            " conv2d_4 (Conv2D)           (None, 30, 30, 16)        12816     \n",
            "                                                                 \n",
            " max_pooling2d_4 (MaxPooling  (None, 15, 15, 16)       0         \n",
            " 2D)                                                             \n",
            "                                                                 \n",
            " dropout_1 (Dropout)         (None, 15, 15, 16)        0         \n",
            "                                                                 \n",
            " flatten_1 (Flatten)         (None, 3600)              0         \n",
            "                                                                 \n",
            " dense_2 (Dense)             (None, 256)               921856    \n",
            "                                                                 \n",
            " dense_3 (Dense)             (None, 2)                 514       \n",
            "                                                                 \n",
            "=================================================================\n",
            "Total params: 991,282\n",
            "Trainable params: 991,282\n",
            "Non-trainable params: 0\n",
            "_________________________________________________________________\n"
          ]
        }
      ],
      "source": [
        "model2.summary()"
      ]
    },
    {
      "cell_type": "markdown",
      "metadata": {
        "id": "pYKW7x0THTyb"
      },
      "source": [
        "Training del modelo"
      ]
    },
    {
      "cell_type": "code",
      "execution_count": null,
      "metadata": {
        "colab": {
          "base_uri": "https://localhost:8080/"
        },
        "id": "bTsLPEQgYEN1",
        "outputId": "d2efda43-bdd9-4363-d276-be5e01ada47f"
      },
      "outputs": [
        {
          "output_type": "stream",
          "name": "stdout",
          "text": [
            "Epoch 1/20\n",
            "23/23 [==============================] - 84s 4s/step - loss: 0.6446 - accuracy: 0.6393 - val_loss: 0.6215 - val_accuracy: 0.6731\n",
            "Epoch 2/20\n",
            "23/23 [==============================] - 71s 3s/step - loss: 0.5149 - accuracy: 0.7813 - val_loss: 0.4357 - val_accuracy: 0.8317\n",
            "Epoch 3/20\n",
            "23/23 [==============================] - 70s 3s/step - loss: 0.5070 - accuracy: 0.7702 - val_loss: 0.4796 - val_accuracy: 0.7885\n",
            "Epoch 4/20\n",
            "23/23 [==============================] - 73s 3s/step - loss: 0.4556 - accuracy: 0.8078 - val_loss: 0.4213 - val_accuracy: 0.8269\n",
            "Epoch 5/20\n",
            "23/23 [==============================] - 81s 3s/step - loss: 0.4204 - accuracy: 0.8162 - val_loss: 0.3673 - val_accuracy: 0.8654\n",
            "Epoch 6/20\n",
            "23/23 [==============================] - 70s 3s/step - loss: 0.4509 - accuracy: 0.7967 - val_loss: 0.3454 - val_accuracy: 0.8702\n",
            "Epoch 7/20\n",
            "23/23 [==============================] - 71s 3s/step - loss: 0.4443 - accuracy: 0.8175 - val_loss: 0.3649 - val_accuracy: 0.8558\n",
            "Epoch 8/20\n",
            "23/23 [==============================] - 70s 3s/step - loss: 0.3893 - accuracy: 0.8217 - val_loss: 0.3602 - val_accuracy: 0.8606\n",
            "Epoch 9/20\n",
            "23/23 [==============================] - 75s 3s/step - loss: 0.3822 - accuracy: 0.8315 - val_loss: 0.3016 - val_accuracy: 0.8798\n",
            "Epoch 10/20\n",
            "23/23 [==============================] - 77s 3s/step - loss: 0.3577 - accuracy: 0.8524 - val_loss: 0.2890 - val_accuracy: 0.8846\n",
            "Epoch 11/20\n",
            "23/23 [==============================] - 70s 3s/step - loss: 0.3147 - accuracy: 0.8552 - val_loss: 0.2913 - val_accuracy: 0.8654\n",
            "Epoch 12/20\n",
            "23/23 [==============================] - 70s 3s/step - loss: 0.4326 - accuracy: 0.8064 - val_loss: 0.3446 - val_accuracy: 0.8846\n",
            "Epoch 13/20\n",
            "23/23 [==============================] - 74s 3s/step - loss: 0.2967 - accuracy: 0.8774 - val_loss: 0.2777 - val_accuracy: 0.9038\n",
            "Epoch 14/20\n",
            "23/23 [==============================] - 70s 3s/step - loss: 0.3226 - accuracy: 0.8593 - val_loss: 0.2418 - val_accuracy: 0.8990\n",
            "Epoch 15/20\n",
            "23/23 [==============================] - 70s 3s/step - loss: 0.2445 - accuracy: 0.9025 - val_loss: 0.1707 - val_accuracy: 0.9471\n",
            "Epoch 16/20\n",
            "23/23 [==============================] - 75s 3s/step - loss: 0.2413 - accuracy: 0.8969 - val_loss: 0.2154 - val_accuracy: 0.9038\n",
            "Epoch 17/20\n",
            "23/23 [==============================] - 70s 3s/step - loss: 0.2658 - accuracy: 0.8788 - val_loss: 0.1801 - val_accuracy: 0.9183\n",
            "Epoch 18/20\n",
            "23/23 [==============================] - 70s 3s/step - loss: 0.2603 - accuracy: 0.8983 - val_loss: 0.1927 - val_accuracy: 0.9423\n",
            "Epoch 19/20\n",
            "23/23 [==============================] - 74s 3s/step - loss: 0.2534 - accuracy: 0.8955 - val_loss: 0.1828 - val_accuracy: 0.9231\n",
            "Epoch 20/20\n",
            "23/23 [==============================] - 70s 3s/step - loss: 0.2368 - accuracy: 0.9081 - val_loss: 0.1756 - val_accuracy: 0.9279\n"
          ]
        }
      ],
      "source": [
        "hist2 = model2.fit(train_set, validation_data = val_set, epochs = 20)"
      ]
    },
    {
      "cell_type": "markdown",
      "metadata": {
        "id": "-D0IXHiTHXU0"
      },
      "source": [
        "##Analisis de los resultados"
      ]
    },
    {
      "cell_type": "markdown",
      "metadata": {
        "id": "uAAewJdKK9B6"
      },
      "source": [
        "###Modelo 1"
      ]
    },
    {
      "cell_type": "markdown",
      "source": [
        "Graficamos el accuracy y el loss de nuestro modelo1, y podemos ver que el accuracy tanto de train como del test casi no cambia y titne picos para abajo, por lo que el modelo no esta aprendiendo como nos gustaria, por la parte del loss, este igual se mantiene casi constante, unicamente con su desenso en la epoc 1"
      ],
      "metadata": {
        "id": "mJLd039gSgYE"
      }
    },
    {
      "cell_type": "code",
      "execution_count": null,
      "metadata": {
        "colab": {
          "base_uri": "https://localhost:8080/",
          "height": 282
        },
        "id": "WV_eWqagLf1X",
        "outputId": "f138dfee-e2fe-4a84-9fef-0ec094b8be17"
      },
      "outputs": [
        {
          "output_type": "execute_result",
          "data": {
            "text/plain": [
              "<matplotlib.axes._subplots.AxesSubplot at 0x7fd06dc097d0>"
            ]
          },
          "metadata": {},
          "execution_count": 14
        },
        {
          "output_type": "display_data",
          "data": {
            "text/plain": [
              "<Figure size 432x288 with 1 Axes>"
            ],
            "image/png": "[encoded data removed]"
          },
          "metadata": {
            "needs_background": "light"
          }
        }
      ],
      "source": [
        "# Plot training and val curves\n",
        "import pandas as pd\n",
        "\n",
        "df = pd.DataFrame(hist.history)\n",
        "df.plot(y=['accuracy', 'val_accuracy'])"
      ]
    },
    {
      "cell_type": "code",
      "execution_count": null,
      "metadata": {
        "colab": {
          "base_uri": "https://localhost:8080/",
          "height": 282
        },
        "id": "T1AkPj6SLg_9",
        "outputId": "9290396e-07de-45e8-b240-0443d9da930f"
      },
      "outputs": [
        {
          "output_type": "execute_result",
          "data": {
            "text/plain": [
              "<matplotlib.axes._subplots.AxesSubplot at 0x7fd06db0a650>"
            ]
          },
          "metadata": {},
          "execution_count": 15
        },
        {
          "output_type": "display_data",
          "data": {
            "text/plain": [
              "<Figure size 432x288 with 1 Axes>"
            ],
            "image/png": "[encoded data removed]"
          },
          "metadata": {
            "needs_background": "light"
          }
        }
      ],
      "source": [
        "df.plot(y=['loss', 'val_loss'])"
      ]
    },
    {
      "cell_type": "code",
      "execution_count": null,
      "metadata": {
        "colab": {
          "base_uri": "https://localhost:8080/"
        },
        "id": "SV3o43-DLmSa",
        "outputId": "740145aa-d0d4-4efd-d5db-e4d2755e504e"
      },
      "outputs": [
        {
          "output_type": "stream",
          "name": "stdout",
          "text": [
            "4/4 [==============================] - 3s 530ms/step - loss: 0.6875 - accuracy: 0.5566\n"
          ]
        },
        {
          "output_type": "execute_result",
          "data": {
            "text/plain": [
              "[0.687502384185791, 0.5566037893295288]"
            ]
          },
          "metadata": {},
          "execution_count": 16
        }
      ],
      "source": [
        "model.evaluate(test_set)"
      ]
    },
    {
      "cell_type": "markdown",
      "metadata": {
        "id": "ZOmaQK8AK7aA"
      },
      "source": [
        "###Modelo 2"
      ]
    },
    {
      "cell_type": "markdown",
      "source": [
        "En en caso del modelo 2, podemos ver que el accuracy del modelo va en aumento hasta pasar del 0.9, tanto en train como en validation,y al tener un acurracy mayor en validation, podemos ver que nuestro modelo no se encuentra overfiteado.\n",
        "\n",
        "De igual forma, podemos ver como segun las epocs, el loss va bajando y tambien tenemos un acurracy muy alto en nuestro test."
      ],
      "metadata": {
        "id": "OHJVbURUTwcT"
      }
    },
    {
      "cell_type": "code",
      "execution_count": null,
      "metadata": {
        "colab": {
          "base_uri": "https://localhost:8080/",
          "height": 282
        },
        "id": "EcPA1ksHtjtH",
        "outputId": "7ed8adcf-a6b8-44dc-e294-0c3ee17e6a0b"
      },
      "outputs": [
        {
          "output_type": "execute_result",
          "data": {
            "text/plain": [
              "<matplotlib.axes._subplots.AxesSubplot at 0x7fd06dcff810>"
            ]
          },
          "metadata": {},
          "execution_count": 17
        },
        {
          "output_type": "display_data",
          "data": {
            "text/plain": [
              "<Figure size 432x288 with 1 Axes>"
            ],
            "image/png": "[encoded data removed]"
          },
          "metadata": {
            "needs_background": "light"
          }
        }
      ],
      "source": [
        "# Plot training and val curves\n",
        "import pandas as pd\n",
        "\n",
        "df2 = pd.DataFrame(hist2.history)\n",
        "df2.plot(y=['accuracy', 'val_accuracy'])"
      ]
    },
    {
      "cell_type": "code",
      "execution_count": null,
      "metadata": {
        "colab": {
          "base_uri": "https://localhost:8080/",
          "height": 282
        },
        "id": "QvtsiQg2HxRl",
        "outputId": "d9ae8fa1-38c7-4382-e258-0cdf39ad5ae0"
      },
      "outputs": [
        {
          "output_type": "execute_result",
          "data": {
            "text/plain": [
              "<matplotlib.axes._subplots.AxesSubplot at 0x7fd06d86a410>"
            ]
          },
          "metadata": {},
          "execution_count": 18
        },
        {
          "output_type": "display_data",
          "data": {
            "text/plain": [
              "<Figure size 432x288 with 1 Axes>"
            ],
            "image/png": "[encoded data removed]"
          },
          "metadata": {
            "needs_background": "light"
          }
        }
      ],
      "source": [
        "df2.plot(y=['loss', 'val_loss'])"
      ]
    },
    {
      "cell_type": "code",
      "execution_count": null,
      "metadata": {
        "colab": {
          "base_uri": "https://localhost:8080/"
        },
        "id": "R83IHOUimmH1",
        "outputId": "894b0c05-e7cd-4595-cece-e84b19873ba8"
      },
      "outputs": [
        {
          "output_type": "stream",
          "name": "stdout",
          "text": [
            "4/4 [==============================] - 3s 541ms/step - loss: 0.1618 - accuracy: 0.9528\n"
          ]
        },
        {
          "output_type": "execute_result",
          "data": {
            "text/plain": [
              "[0.16175462305545807, 0.9528301954269409]"
            ]
          },
          "metadata": {},
          "execution_count": 19
        }
      ],
      "source": [
        "model2.evaluate(test_set)"
      ]
    },
    {
      "cell_type": "markdown",
      "metadata": {
        "id": "LrBGCYuQJI2X"
      },
      "source": [
        "##Cambios realizados para mejora del modelo"
      ]
    },
    {
      "cell_type": "markdown",
      "metadata": {
        "id": "6ozvOrXWM5un"
      },
      "source": [
        "En este caso, para la mejora del modelo lo que se agrego fue el dropeo del 25% de los nodos, para evitar overfitting, agregamos otra capa de conv2D y otra de Maxpooling, para un mayor procesamiento de los datos y otro dropeo final del 25% nuevamente. \n",
        "\n",
        "Tambien se cambio la activacion de la ultima capa densa del modelo de softmax a sigmoid, ya que estamos trabajando con un modelo binario y esta activación es mejor[1]\n",
        "\n",
        "Aparte de esto se entreno con una mayor cantidad de epocas en el segundo modelo para que asi el modelo tenga mayor oportunidad de aprender.\n",
        "\n",
        "1. https://towardsdatascience.com/sigmoid-and-softmax-functions-in-5-minutes-f516c80ea1f9"
      ]
    },
    {
      "cell_type": "markdown",
      "metadata": {
        "id": "c9MulizqN23F"
      },
      "source": [
        "Resultados obtenidos en el modelo 1:                  \n",
        "\n",
        "Train_accuracy: 0.54                                  \n",
        "\n",
        "Validation_accuracy: 0.54                             \n",
        "\n",
        "Test_accuracy: 0.55                                   \n",
        "\n",
        "---\n",
        "\n",
        "\n",
        "\n",
        "Resultados obtenidos en el modelo 2:\n",
        "\n",
        "Train_accuracy: 0.90\n",
        "\n",
        "Validation_accuracy: 0.92\n",
        "\n",
        "Test_accuracy: 0.95\n",
        "\n",
        "\n"
      ]
    },
    {
      "cell_type": "markdown",
      "metadata": {
        "id": "ymenwToJJRni"
      },
      "source": [
        "##Guardado del modelo"
      ]
    },
    {
      "cell_type": "code",
      "execution_count": null,
      "metadata": {
        "id": "WtSMkAULARKe"
      },
      "outputs": [],
      "source": [
        "hist2.model.save('Pizza-Ice_model.h5')"
      ]
    }
  ],
  "metadata": {
    "colab": {
      "collapsed_sections": [],
      "provenance": []
    },
    "kernelspec": {
      "display_name": "Python 3",
      "name": "python3"
    },
    "language_info": {
      "name": "python"
    }
  },
  "nbformat": 4,
  "nbformat_minor": 0
}